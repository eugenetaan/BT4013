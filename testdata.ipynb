{
 "cells": [
  {
   "cell_type": "code",
   "execution_count": 1,
   "metadata": {},
   "outputs": [
    {
     "ename": "NameError",
     "evalue": "name '__file__' is not defined",
     "output_type": "error",
     "traceback": [
      "\u001b[0;31m---------------------------------------------------------------------------\u001b[0m",
      "\u001b[0;31mNameError\u001b[0m                                 Traceback (most recent call last)",
      "Cell \u001b[0;32mIn[1], line 2\u001b[0m\n\u001b[1;32m      1\u001b[0m \u001b[38;5;28;01mimport\u001b[39;00m \u001b[38;5;21;01mos\u001b[39;00m\u001b[38;5;241m,\u001b[39m \u001b[38;5;21;01mjson\u001b[39;00m\n\u001b[0;32m----> 2\u001b[0m script_dir \u001b[38;5;241m=\u001b[39m os\u001b[38;5;241m.\u001b[39mpath\u001b[38;5;241m.\u001b[39mdirname(\u001b[38;5;18;43m__file__\u001b[39;49m)\n\u001b[1;32m      3\u001b[0m file_path \u001b[38;5;241m=\u001b[39m os\u001b[38;5;241m.\u001b[39mpath\u001b[38;5;241m.\u001b[39mjoin(script_dir, \u001b[38;5;124m'\u001b[39m\u001b[38;5;124mconfig.json\u001b[39m\u001b[38;5;124m'\u001b[39m)\n\u001b[1;32m      4\u001b[0m \u001b[38;5;28;01mwith\u001b[39;00m \u001b[38;5;28mopen\u001b[39m(file_path,\u001b[38;5;124m'\u001b[39m\u001b[38;5;124mr\u001b[39m\u001b[38;5;124m'\u001b[39m) \u001b[38;5;28;01mas\u001b[39;00m config_file:\n",
      "\u001b[0;31mNameError\u001b[0m: name '__file__' is not defined"
     ]
    }
   ],
   "source": [
    "import os, json\n",
    "script_dir = os.path.dirname(__file__)\n",
    "file_path = os.path.join(script_dir, 'config.json')\n",
    "with open(file_path,'r') as config_file:\n",
    "    config = json.load(config_file)\n",
    "    os.environ[\"GROQ_API_KEY\"] = config['api_key']"
   ]
  },
  {
   "cell_type": "code",
   "execution_count": 3,
   "metadata": {},
   "outputs": [],
   "source": [
    "from langchain_groq import ChatGroq\n",
    "from langchain_openai import ChatOpenAI\n",
    "import os \n",
    "# Groq\n",
    "gemma7b = ChatGroq(model=\"gemma-7b-it\")\n",
    "gemma2_9b = ChatGroq(model=\"gemma2-9b-it\")\n",
    "llama3_8b = ChatGroq(model=\"llama3-8b-8192\")\n",
    "llama3_70b = ChatGroq(model=\"llama3-70b-8192\")\n",
    "llama31_70b = ChatGroq(model = 'llama-3.1-70b-versatile')\n",
    "mixtral8x7b = ChatGroq(model=\"mixtral-8x7b-32768\")"
   ]
  },
  {
   "cell_type": "code",
   "execution_count": 21,
   "metadata": {},
   "outputs": [
    {
     "name": "stdout",
     "output_type": "stream",
     "text": [
      "3406\n",
      "4561\n",
      "4234\n"
     ]
    }
   ],
   "source": [
    "import pandas as pd\n",
    "\n",
    "# Open the file in read mode\n",
    "with open('1.txt', 'r') as file:\n",
    "    t1 = file.read()\n",
    "with open('2.txt', 'r') as file:\n",
    "    t2 = file.read()\n",
    "with open('3.txt', 'r') as file:\n",
    "    t3 = file.read()\n",
    "tests = [t1,t2,t3]\n",
    "\n",
    "for i in tests:\n",
    "    print(len(i))"
   ]
  },
  {
   "cell_type": "markdown",
   "metadata": {},
   "source": [
    "#   Input --> list of text of trendy news articles \n",
    "\n",
    "#   Output --> {Summarised trend: , why information relevant to Singapore, solutions}"
   ]
  },
  {
   "cell_type": "code",
   "execution_count": 19,
   "metadata": {},
   "outputs": [],
   "source": [
    "from langchain_core.prompts import ChatPromptTemplate\n",
    "\n",
    "EXPLANATIONPROMPT = \"\"\"\n",
    "[PROMPT]\n",
    "You will be given 3 to 4 articles regarding a particular topic.\n",
    "Your goal is to explain the impact of this article has on Singapore's society\n",
    "Explanation less than 80 words on the matter.\n",
    "[PROMPT]\n",
    "\n",
    "\n",
    "[EXAMPLE]\n",
    "Input: \n",
    "'Self-radicalised student, 14, and ex-public servant, 33, served restriction orders under ISA; Israel-Hamas war the 'common trigger' for both\n",
    "SINGAPORE — A 14-year-old student aspiring to fight for a prophesised Muslim army and launch attacks in Singapore was among two self-radicalised individuals issued with restriction orders under the Internal Security Act (ISA). \n",
    "He is the youngest individual to date to be issued with an ISA order.The other is An’nadya An’nahari, a 33-year-old former manager with a statutory board, who received her restriction order in July. \n",
    "This makes her the second public servant to be issued with one.The two Singaporeans had been separately self-radicalised online, with the ongoing Israel-Hamas conflict being the \"common trigger\", ISD said.\n",
    "The student also considered carrying out attacks in Singapore'\n",
    "\n",
    "'Influencers driving extreme misogyny, say police\n",
    "Online influencers like Andrew Tate are radicalising boys into extreme misogyny in a way that is \"quite terrifying\", police are warning. Senior police officer Maggie Blyth said young men and boys could be radicalised in the same way that terrorists draw in followers.\n",
    "The National Police Chiefs Council described the issue as a \"national emergency\" as it published a report into violence against women and girls. \n",
    "Deputy Chief Constable Maggie Blyth said officers who focused on violence against women and girls were now working with counter-terrorism teams to look at the risk of young men being radicalised. \n",
    "Mr Tate is a controversial British-American influencer and self-proclaimed \"misogynist\" who rose to fame after appearing on Big Brother in 2016. \n",
    "Schools across the UK previously told the BBC they were encountering increasing numbers of pupils who admired Mr Tate.'\n",
    "\n",
    "'Radicalised' teenager shot dead by Perth police after stabbing incident\n",
    "Australian police said on Sunday (May 5) they shot dead a 16-year-old boy, after a man was stabbed in a Perth suburb, in an attack authorities said indicated terrorism. \n",
    "Col Blanch, the police commissioner of the state of Western Australia, said the boy had mental health issues and had been part of a police deradicalisation programme.\n",
    "Commissioner Blanch said the boy had called the police and told them he had planned to commit \"acts of violence\".\n",
    "Two officers initially shot him with their Tasers but neither had \"the full desired effect\", Blanch told reporters. A third officer then shot the boy with his firearm. \n",
    "Police body camera images showed the teenager refused officers' demands that he put down the knife, the police chief said.\n",
    "\n",
    "\n",
    "output: '\n",
    "Radicalisation is a huge issue both within Singapore and worldwide. Sensitive issue such as the Israel-Hamas conflict and increased xenophobic sentiment unsettles Singapore society that was built on racial homogenity, likely sparking tensions and question the social fabric of Singaporean society. \n",
    "This is something the state would look into and deter such radicalisations.\n",
    "'\n",
    "[EXAMPLE]\n",
    "\n",
    "\n",
    "[INFO]\n",
    "- texts: {texts}\n",
    "[INFO]\n",
    "\n",
    "\"\"\"\n",
    "\n",
    "\n",
    "\n",
    "\n",
    "\n",
    "explainprompt_template = ChatPromptTemplate.from_messages(\n",
    "    [\n",
    "        (\"system\", EXPLANATIONPROMPT),\n",
    "        ('human', \"{texts}\")\n",
    "    ]\n",
    ")\n",
    "\n",
    "llama31_70bchain_risk = explainprompt_template | llama31_70b"
   ]
  },
  {
   "cell_type": "code",
   "execution_count": 34,
   "metadata": {},
   "outputs": [],
   "source": [
    "from langchain_core.prompts import ChatPromptTemplate\n",
    "from langchain_core.pydantic_v1 import BaseModel, Field, validator\n",
    "from typing import List, Literal\n",
    "\n",
    "class Severity(BaseModel):\n",
    "    subcategory: Literal[\"LOW\", \"MEDIUM\", \"HIGH\"] = Field(description = \"\"\" Decide which category of severity this topic is in relation to Singapore \"\"\")\n",
    "\n",
    "\n",
    "\n",
    "SEVERITYPROMPT = \"\"\"\n",
    "[PROMPT]\n",
    "You will be given 3 to 4 articles regarding a particular topic.\n",
    "Your goal is to output 'LOW', 'MEDIUM' or 'HIGH' on the severity of this topic in relation to Singapore society.\n",
    "Do not take into account current measures by the Singapore government to combat this issue. \n",
    "Focus on how much this will impact Singapore. \n",
    "\n",
    "DO NOT EXPLAIN\n",
    "[PROMPT]\n",
    "\n",
    "\n",
    "[EXAMPLE]\n",
    "Input: \n",
    "'Self-radicalised student, 14, and ex-public servant, 33, served restriction orders under ISA; Israel-Hamas war the 'common trigger' for both\n",
    "SINGAPORE — A 14-year-old student aspiring to fight for a prophesised Muslim army and launch attacks in Singapore was among two self-radicalised individuals issued with restriction orders under the Internal Security Act (ISA). \n",
    "He is the youngest individual to date to be issued with an ISA order.The other is An’nadya An’nahari, a 33-year-old former manager with a statutory board, who received her restriction order in July. \n",
    "This makes her the second public servant to be issued with one.The two Singaporeans had been separately self-radicalised online, with the ongoing Israel-Hamas conflict being the \"common trigger\", ISD said.\n",
    "The student also considered carrying out attacks in Singapore'\n",
    "\n",
    "'Influencers driving extreme misogyny, say police\n",
    "Online influencers like Andrew Tate are radicalising boys into extreme misogyny in a way that is \"quite terrifying\", police are warning. Senior police officer Maggie Blyth said young men and boys could be radicalised in the same way that terrorists draw in followers.\n",
    "The National Police Chiefs Council described the issue as a \"national emergency\" as it published a report into violence against women and girls. \n",
    "Deputy Chief Constable Maggie Blyth said officers who focused on violence against women and girls were now working with counter-terrorism teams to look at the risk of young men being radicalised. \n",
    "Mr Tate is a controversial British-American influencer and self-proclaimed \"misogynist\" who rose to fame after appearing on Big Brother in 2016. \n",
    "Schools across the UK previously told the BBC they were encountering increasing numbers of pupils who admired Mr Tate.'\n",
    "\n",
    "'Radicalised' teenager shot dead by Perth police after stabbing incident\n",
    "Australian police said on Sunday (May 5) they shot dead a 16-year-old boy, after a man was stabbed in a Perth suburb, in an attack authorities said indicated terrorism. \n",
    "Col Blanch, the police commissioner of the state of Western Australia, said the boy had mental health issues and had been part of a police deradicalisation programme.\n",
    "Commissioner Blanch said the boy had called the police and told them he had planned to commit \"acts of violence\".\n",
    "Two officers initially shot him with their Tasers but neither had \"the full desired effect\", Blanch told reporters. A third officer then shot the boy with his firearm. \n",
    "Police body camera images showed the teenager refused officers' demands that he put down the knife, the police chief said.\n",
    "\n",
    "\n",
    "output: 'HIGH'\n",
    "\n",
    "[EXAMPLE]\n",
    "\n",
    "\n",
    "[INFO]\n",
    "- texts: {texts}\n",
    "[INFO]\n",
    "\n",
    "\"\"\"\n",
    "\n",
    "\n",
    "\n",
    "severityprompt_template = ChatPromptTemplate.from_messages(\n",
    "    [\n",
    "        (\"system\", SEVERITYPROMPT),\n",
    "        ('human', \"{texts}\")\n",
    "    ]\n",
    ")\n",
    "\n",
    "llama31_70bchain_severity = severityprompt_template | llama31_70b.with_structured_output(\n",
    "Severity\n",
    ")"
   ]
  },
  {
   "cell_type": "code",
   "execution_count": 35,
   "metadata": {},
   "outputs": [],
   "source": [
    "ANALYSISPROMPT = \"\"\"\n",
    "[PROMPT]\n",
    "You will be given 3 to 4 articles regarding a particular topic.\n",
    "Your goal is to output how Singapore and her government can deal with this topic / issue.\n",
    "Talk about current measures being implemented and future measures that could be implemented.\n",
    "Explanation less than 80 words on the matter.\n",
    "[PROMPT]\n",
    "\n",
    "\n",
    "[EXAMPLE]\n",
    "Input: \n",
    "'Self-radicalised student, 14, and ex-public servant, 33, served restriction orders under ISA; Israel-Hamas war the 'common trigger' for both\n",
    "SINGAPORE — A 14-year-old student aspiring to fight for a prophesised Muslim army and launch attacks in Singapore was among two self-radicalised individuals issued with restriction orders under the Internal Security Act (ISA). \n",
    "He is the youngest individual to date to be issued with an ISA order.The other is An’nadya An’nahari, a 33-year-old former manager with a statutory board, who received her restriction order in July. \n",
    "This makes her the second public servant to be issued with one.The two Singaporeans had been separately self-radicalised online, with the ongoing Israel-Hamas conflict being the \"common trigger\", ISD said.\n",
    "The student also considered carrying out attacks in Singapore'\n",
    "\n",
    "'Influencers driving extreme misogyny, say police\n",
    "Online influencers like Andrew Tate are radicalising boys into extreme misogyny in a way that is \"quite terrifying\", police are warning. Senior police officer Maggie Blyth said young men and boys could be radicalised in the same way that terrorists draw in followers.\n",
    "The National Police Chiefs Council described the issue as a \"national emergency\" as it published a report into violence against women and girls. \n",
    "Deputy Chief Constable Maggie Blyth said officers who focused on violence against women and girls were now working with counter-terrorism teams to look at the risk of young men being radicalised. \n",
    "Mr Tate is a controversial British-American influencer and self-proclaimed \"misogynist\" who rose to fame after appearing on Big Brother in 2016. \n",
    "Schools across the UK previously told the BBC they were encountering increasing numbers of pupils who admired Mr Tate.'\n",
    "\n",
    "'Radicalised' teenager shot dead by Perth police after stabbing incident\n",
    "Australian police said on Sunday (May 5) they shot dead a 16-year-old boy, after a man was stabbed in a Perth suburb, in an attack authorities said indicated terrorism. \n",
    "Col Blanch, the police commissioner of the state of Western Australia, said the boy had mental health issues and had been part of a police deradicalisation programme.\n",
    "Commissioner Blanch said the boy had called the police and told them he had planned to commit \"acts of violence\".\n",
    "Two officers initially shot him with their Tasers but neither had \"the full desired effect\", Blanch told reporters. A third officer then shot the boy with his firearm. \n",
    "Police body camera images showed the teenager refused officers' demands that he put down the knife, the police chief said.\n",
    "\n",
    "\n",
    "output: 'Singapore addresses radicalization through a multi-pronged approach, including community engagement, counter-radicalization programs, and religious rehabilitation. \n",
    "The Religious Rehabilitation Group (RRG) helps re-educate and counsel radicalized individuals, while the Inter-Agency Aftercare Group provides support for reintegration. \n",
    "Strict laws like the Internal Security Act allow for detention of individuals deemed a threat. \n",
    "Moving forward, Singapore could enhance efforts by promoting digital literacy to counter online radicalization, increasing youth outreach, and fostering deeper interfaith dialogues to strengthen community resilience.'\n",
    "\n",
    "[EXAMPLE]\n",
    "\n",
    "\n",
    "[INFO]\n",
    "- texts: {texts}\n",
    "[INFO]\n",
    "\n",
    "\"\"\"\n",
    "\n",
    "\n",
    "\n",
    "analysisprompt_template = ChatPromptTemplate.from_messages(\n",
    "    [\n",
    "        (\"system\", ANALYSISPROMPT),\n",
    "        ('human', \"{texts}\")\n",
    "    ]\n",
    ")\n",
    "\n",
    "llama31_70bchain_analysis = analysisprompt_template | llama31_70b"
   ]
  },
  {
   "cell_type": "code",
   "execution_count": 12,
   "metadata": {},
   "outputs": [
    {
     "name": "stdout",
     "output_type": "stream",
     "text": [
      "Mpox: The risk of developing an animal base outside Africa remains limited. The danger of the virus spreading to domestic and wild fauna outside Africa, taken seriously by health authorities, is judged to be fairly low. However, cases of contamination from humans to animals have been documented.. Yo\n"
     ]
    },
    {
     "ename": "NameError",
     "evalue": "name 'llama31_70bchain_summary' is not defined",
     "output_type": "error",
     "traceback": [
      "\u001b[0;31m---------------------------------------------------------------------------\u001b[0m",
      "\u001b[0;31mNameError\u001b[0m                                 Traceback (most recent call last)",
      "Cell \u001b[0;32mIn[12], line 3\u001b[0m\n\u001b[1;32m      1\u001b[0m \u001b[38;5;28;01mfor\u001b[39;00m text \u001b[38;5;129;01min\u001b[39;00m tests:\n\u001b[1;32m      2\u001b[0m     \u001b[38;5;28mprint\u001b[39m(text[:\u001b[38;5;241m300\u001b[39m])\n\u001b[0;32m----> 3\u001b[0m     sumans \u001b[38;5;241m=\u001b[39m \u001b[43mllama31_70bchain_summary\u001b[49m\u001b[38;5;241m.\u001b[39minvoke(text)\n\u001b[1;32m      4\u001b[0m     \u001b[38;5;28mprint\u001b[39m(\u001b[38;5;124m'\u001b[39m\u001b[38;5;124mSummarised content:\u001b[39m\u001b[38;5;124m'\u001b[39m, sumans\u001b[38;5;241m.\u001b[39mcontent)\n\u001b[1;32m      5\u001b[0m     riskans \u001b[38;5;241m=\u001b[39m llama31_70bchain_risk\u001b[38;5;241m.\u001b[39minvoke(text)\n",
      "\u001b[0;31mNameError\u001b[0m: name 'llama31_70bchain_summary' is not defined"
     ]
    }
   ],
   "source": [
    "for text in tests:\n",
    "    print(text[:300])\n",
    "    sumans = llama31_70bchain_summary.invoke(text)\n",
    "    print('Summarised content:', sumans.content)\n",
    "    riskans = llama31_70bchain_risk.invoke(text)\n",
    "    print('Risk analysis:', riskans.content)\n",
    "    print('\\n\\n')"
   ]
  },
  {
   "cell_type": "code",
   "execution_count": 23,
   "metadata": {},
   "outputs": [
    {
     "name": "stdout",
     "output_type": "stream",
     "text": [
      "(\"Mpox's potential spread in Singapore is closely monitored by health \"\n",
      " 'authorities. Given the low risk of transmission, existing measures for other '\n",
      " 'infectious diseases remain relevant in preschools and schools, with '\n",
      " 'wastewater testing conducted at migrant worker dormitories. No Clade 1 '\n",
      " 'infections have been detected in Singapore to date, with all 14 mpox cases '\n",
      " 'being the less severe Clade 2 subtype. Overall, Singapore is taking a '\n",
      " 'manageable approach to mpox, with a focus on outbreak management and '\n",
      " 'preparedness.')\n"
     ]
    }
   ],
   "source": [
    "from pprint import pprint\n",
    "pprint(llama31_70bchain_risk.invoke(tests).content)\n"
   ]
  },
  {
   "cell_type": "code",
   "execution_count": 33,
   "metadata": {},
   "outputs": [
    {
     "name": "stdout",
     "output_type": "stream",
     "text": [
      "'MEDIUM'\n",
      "'MEDIUM'\n",
      "'LOW'\n",
      "'LOW'\n",
      "'LOW'\n",
      "'MEDIUM'\n",
      "'MEDIUM'\n",
      "'MEDIUM'\n",
      "'LOW'\n",
      "'MEDIUM'\n"
     ]
    }
   ],
   "source": [
    "from pprint import pprint\n",
    "for i in range(10):\n",
    "    pprint(llama31_70bchain_severity.invoke(tests).content)\n"
   ]
  },
  {
   "cell_type": "code",
   "execution_count": 37,
   "metadata": {},
   "outputs": [
    {
     "data": {
      "text/plain": [
       "\"Singapore's approach to addressing the mpox virus involves a multi-faceted strategy, including enhancing border control measures, conducting wastewater testing, and implementing quarantine protocols for close contacts. \\n\\nCurrent measures being implemented include temperature and visual screening at air and sea checkpoints, as well as wastewater testing at migrant worker dormitories. Additionally, suspected cases of mpox are being taken to designated healthcare facilities for isolation and treatment.\\n\\nMoving forward, Singapore could enhance its efforts by increasing public awareness about the risks of mpox transmission, particularly through close physical contact. The government could also consider introducing vaccination programs for high-risk individuals, such as healthcare workers and those who have been in close contact with infected persons. Furthermore, Singapore could strengthen its collaboration with international health authorities to stay updated on the latest developments and best practices in managing the mpox outbreak.\""
      ]
     },
     "execution_count": 37,
     "metadata": {},
     "output_type": "execute_result"
    }
   ],
   "source": [
    "llama31_70bchain_analysis.invoke(tests).content"
   ]
  },
  {
   "cell_type": "code",
   "execution_count": null,
   "metadata": {},
   "outputs": [],
   "source": []
  }
 ],
 "metadata": {
  "kernelspec": {
   "display_name": "Python 3",
   "language": "python",
   "name": "python3"
  },
  "language_info": {
   "codemirror_mode": {
    "name": "ipython",
    "version": 3
   },
   "file_extension": ".py",
   "mimetype": "text/x-python",
   "name": "python",
   "nbconvert_exporter": "python",
   "pygments_lexer": "ipython3",
   "version": "3.8.8"
  }
 },
 "nbformat": 4,
 "nbformat_minor": 2
}
