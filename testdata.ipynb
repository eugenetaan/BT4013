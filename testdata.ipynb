{
 "cells": [
  {
   "cell_type": "code",
   "execution_count": 3,
   "metadata": {},
   "outputs": [
    {
     "ename": "NameError",
     "evalue": "name '__file__' is not defined",
     "output_type": "error",
     "traceback": [
      "\u001b[0;31m---------------------------------------------------------------------------\u001b[0m",
      "\u001b[0;31mNameError\u001b[0m                                 Traceback (most recent call last)",
      "Cell \u001b[0;32mIn[3], line 2\u001b[0m\n\u001b[1;32m      1\u001b[0m \u001b[38;5;28;01mimport\u001b[39;00m \u001b[38;5;21;01mos\u001b[39;00m\u001b[38;5;241m,\u001b[39m \u001b[38;5;21;01mjson\u001b[39;00m\n\u001b[0;32m----> 2\u001b[0m script_dir \u001b[38;5;241m=\u001b[39m os\u001b[38;5;241m.\u001b[39mpath\u001b[38;5;241m.\u001b[39mdirname(\u001b[38;5;18;43m__file__\u001b[39;49m)\n\u001b[1;32m      3\u001b[0m file_path \u001b[38;5;241m=\u001b[39m os\u001b[38;5;241m.\u001b[39mpath\u001b[38;5;241m.\u001b[39mjoin(script_dir, \u001b[38;5;124m'\u001b[39m\u001b[38;5;124mconfig.json\u001b[39m\u001b[38;5;124m'\u001b[39m)\n\u001b[1;32m      4\u001b[0m \u001b[38;5;28;01mwith\u001b[39;00m \u001b[38;5;28mopen\u001b[39m(file_path,\u001b[38;5;124m'\u001b[39m\u001b[38;5;124mr\u001b[39m\u001b[38;5;124m'\u001b[39m) \u001b[38;5;28;01mas\u001b[39;00m config_file:\n",
      "\u001b[0;31mNameError\u001b[0m: name '__file__' is not defined"
     ]
    }
   ],
   "source": [
    "import os, json\n",
    "script_dir = os.path.dirname(__file__)\n",
    "file_path = os.path.join(script_dir, 'config.json')\n",
    "with open(file_path,'r') as config_file:\n",
    "    config = json.load(config_file)\n",
    "    os.environ[\"GROQ_API_KEY\"] = config['api_key']"
   ]
  },
  {
   "cell_type": "code",
   "execution_count": 11,
   "metadata": {},
   "outputs": [],
   "source": [
    "from langchain_groq import ChatGroq\n",
    "from langchain_openai import ChatOpenAI\n",
    "import os \n",
    "# Groq\n",
    "gemma7b = ChatGroq(model=\"gemma-7b-it\")\n",
    "gemma2_9b = ChatGroq(model=\"gemma2-9b-it\")\n",
    "llama3_8b = ChatGroq(model=\"llama3-8b-8192\")\n",
    "llama3_70b = ChatGroq(model=\"llama3-70b-8192\")\n",
    "llama31_70b = ChatGroq(model = 'llama-3.1-70b-versatile')\n",
    "mixtral8x7b = ChatGroq(model=\"mixtral-8x7b-32768\")"
   ]
  },
  {
   "cell_type": "code",
   "execution_count": 9,
   "metadata": {},
   "outputs": [],
   "source": [
    "import pandas as pd\n",
    "\n",
    "# Open the file in read mode\n",
    "with open('1.txt', 'r') as file:\n",
    "    t1 = file.read()\n",
    "with open('2.txt', 'r') as file:\n",
    "    t2 = file.read()\n",
    "with open('3.txt', 'r') as file:\n",
    "    t3 = file.read()\n",
    "tests = [t1,t2,t3]\n",
    "\n",
    "\n",
    "for i in tests:\n",
    "    print(len(i))"
   ]
  },
  {
   "cell_type": "markdown",
   "metadata": {},
   "source": [
    "#   Input --> list of text of trendy news articles \n",
    "\n",
    "#   Output --> {Summarised trend: , why information relevant to Singapore, solutions}"
   ]
  },
  {
   "cell_type": "code",
   "execution_count": 18,
   "metadata": {},
   "outputs": [],
   "source": [
    "from langchain_core.prompts import ChatPromptTemplate\n",
    "\n",
    "RISKPROMPT = \"\"\"\n",
    "[PROMPT]\n",
    "Your goal is to explain the impact of this article has on Singapore's society\n",
    "Explanation less than 80 words on the matter. Indicate 5W1H when writing your explanation. \n",
    "[PROMPT]\n",
    "\n",
    "\n",
    "[EXAMPLE]\n",
    "input: 'Self-radicalised student, 14, and ex-public servant, 33, served restriction orders under ISA; Israel-Hamas war the 'common trigger' for both\n",
    "SINGAPORE — A 14-year-old student aspiring to fight for a prophesised Muslim army and launch attacks in Singapore was among two self-radicalised individuals issued with restriction orders under the Internal Security Act (ISA). \n",
    "The student was issued the order in June, the Internal Security Department (ISD) said on Monday (July 15). He is the youngest individual to date to be issued with an ISA order.The other is An’nadya An’nahari, a 33-year-old former manager with a statutory board, who received her restriction order in July. \n",
    "This makes her the second public servant to be issued with one.The two Singaporeans had been separately self-radicalised online, with the ongoing Israel-Hamas conflict being the \"common trigger\", ISD said. The student, who is in Secondary Three, aspired to fight for the Black Flag Army. The Black Flag Army is prophesised to be a Muslim army carrying black flags led by Mahdi, the saviour of Muslims, which will emerge from Khorasan, a historical region covering parts of modern-day Afghanistan and north-east Iran, to engage in a final battle with non-believers during the apocalyptic \"End of Times\".\n",
    "The student also considered carrying out attacks in Singapore\n",
    "'. \n",
    "output: '\n",
    "A Singaporean radicalised by the Israel-Hamas conflict and possibly attacking Singapore society that was built on racial homogenity might spark tensions and question the social fabric of Singaporean society. \n",
    "This is something the state would look into and deter such radicalisations.\n",
    "'\n",
    "[EXAMPLE]\n",
    "\n",
    "\n",
    "[INFO]\n",
    "- text: {text}\n",
    "[INFO]\n",
    "\n",
    "\"\"\"\n",
    "\n",
    "riskprompt_template = ChatPromptTemplate.from_messages(\n",
    "    [\n",
    "        (\"system\", RISKPROMPT),\n",
    "    ]\n",
    ")\n",
    "\n",
    "llama31_70bchain_risk = riskprompt_template | llama31_70b"
   ]
  },
  {
   "cell_type": "code",
   "execution_count": 19,
   "metadata": {},
   "outputs": [],
   "source": [
    "from langchain_core.prompts import ChatPromptTemplate\n",
    "\n",
    "SUMMARYPROMPT = \"\"\"\n",
    "[PROMPT]\n",
    "Your goal is to summarise the entire article into less than a 100 words. \n",
    "Give a 10 - 20 word title.\n",
    "Followed by an explanation less than 80 words on the matter. Indicate 5W1H when writing your explanation. \n",
    "[PROMPT]\n",
    "\n",
    "[EXAMPLE]\n",
    "input: 'Super Typhoon Yagi hits Vietnam after leaving deadly trail\n",
    "HAI PHONG, Vietnam: Super Typhoon Yagi uprooted thousands of trees, swept ships and boats out to sea and ripped roofs off houses in northern Vietnam on Saturday (Sep 7), \n",
    "killing at least three people, after leaving a trail of destruction in Southern China and the Philippines.\n",
    "The storm made landfall in Vietnam's Hai Phong and Quang Ninh provinces, packing winds exceeding 149kmh, Vietnam's National Centre for Hydro-Meteorological Forecasting said.\n",
    "The death toll in Vietnam from storm-related damage rose to four as roofing torn away by Yagi flew through the air, \n",
    "killing three residents of Quang Ninh, state media said.\n",
    "'. \n",
    "output: 'Typhoon Yagi has hit Vietnam leaving many dead.\n",
    "Typhoon Yagi has hit Northern Vietnam on 7 Sept and killed at least three people. Winds exceed 149kmh and has affected Vietnam's Hai Phong and Quang Ninh provinces.\n",
    "'\n",
    "\n",
    "[EXAMPLE]\n",
    "\n",
    "[INFO]\n",
    "- text: {text}\n",
    "[INFO]\n",
    "\n",
    "\"\"\"\n",
    "\n",
    "summaryprompt_template = ChatPromptTemplate.from_messages(\n",
    "    [\n",
    "        (\"system\", SUMMARYPROMPT),\n",
    "    ]\n",
    ")\n",
    "\n",
    "llama31_70bchain_summary = summaryprompt_template | llama31_70b"
   ]
  },
  {
   "cell_type": "code",
   "execution_count": 20,
   "metadata": {},
   "outputs": [
    {
     "name": "stdout",
     "output_type": "stream",
     "text": [
      "Mpox: The risk of developing an animal base outside Africa remains limited. The danger of the virus spreading to domestic and wild fauna outside Africa, taken seriously by health authorities, is judged to be fairly low. However, cases of contamination from humans to animals have been documented.. Yo\n",
      "Summarised content: 'Mpox risk to animal base outside Africa'\n",
      "\n",
      "Mpox, a zoonosis, is a virus originating in the animal world and transmitted to humans through contact. The risk of the virus spreading from humans to animals and then to wildlife outside Africa is considered low. Health authorities advise people with mpox to avoid contact with pets or take precautions such as washing hands, wearing gloves and a mask. The goal is to prevent the virus from establishing itself in temperate zones, making it harder to eradicate.\n",
      "Risk analysis: The article about Mpox has limited impact on Singapore's society.\n",
      "\n",
      "Who: Singaporeans and health authorities in Singapore.\n",
      "What: The risk of Mpox developing an animal base outside Africa is low.\n",
      "When: No specific date mentioned in the article.\n",
      "Where: The risk is outside Africa, but Singapore is not specifically mentioned.\n",
      "Why: The risk of Mpox spreading to domestic and wild fauna is being taken seriously by health authorities worldwide, including in Singapore.\n",
      "\n",
      "The article does not have significant implications for Singapore's society as the risk of Mpox spreading to animals is low and the article does not mention any specific cases in Singapore.\n",
      "\n",
      "\n",
      "\n",
      "Mpox a 'troublesome' but manageable virus; no need for masks yet: Ong Ye Kung. Current evidence shows that mpox is spread mainly through close physical contact but the Ministry of Health will consider implementing the wearing of masks if there is evidence of significant respiratory transmission.. SI\n",
      "Summarised content: Mpox Not a Public Health Threat Yet.\n",
      "\n",
      "Mpox is currently manageable in Singapore, with current evidence showing it is mainly spread through close physical contact. As of now, there is no need for masks, with the Ministry of Health considering introducing rules if there is evidence of significant respiratory transmission. The virus has a lower infectious rate than COVID-19, with an average of 1.3 people infected per case. \n",
      "\n",
      "Who: Health Minister Ong Ye Kung and the Ministry of Health.\n",
      "What: Mpox virus transmission and management.\n",
      "When: As of September 4.\n",
      "Where: Singapore.\n",
      "Why: No need for masks yet due to low infectious rate and transmission mainly through close physical contact.\n",
      "How: Close monitoring of the situation and preparedness to respond and implement measures if necessary.\n",
      "Risk analysis: The impact of Health Minister Ong Ye Kung's statement on mpox in Singapore's society is on its public health preparedness and measures.\n",
      "\n",
      "**Who:** Singapore's Health Minister Ong Ye Kung and the Ministry of Health (MOH).\n",
      "**What:** The statement on mpox as a \"troublesome\" virus, emphasizing the need for vigilance but not alarm, and outlining measures to manage the situation.\n",
      "**When:** September 2023.\n",
      "**Where:** Singapore.\n",
      "**Why:** To address public concerns about mpox and its potential impact on the country.\n",
      "**How:** By implementing measures such as wastewater testing, temperature and visual screening, and quarantine for close contacts.\n",
      "\n",
      "This statement aims to reassure the public that the situation is manageable and under control, while also emphasizing the importance of being prepared and vigilant.\n",
      "\n",
      "\n",
      "\n",
      "First case of more dangerous mpox found outside Africa. Sweden's public health agency has recorded what it says is the first case of a more dangerous type of mpox outside the African continent.. The person became infected during a stay in an area of Africa where there is currently a major outbreak o\n",
      "Summarised content: 'Mpox Outbreak Spreads Outside Africa'\n",
      "\n",
      " Mpox Clade 1b has been detected in Sweden, the first case outside Africa. The infected person contracted the disease in Africa and sought care in the Stockholm area. WHO has declared the outbreak a public health emergency of international concern, with at least 450 deaths in Africa. Mpox is transmitted through close contact and causes flu-like symptoms. Sweden's high-quality healthcare is expected to keep mortality rates lower than in Africa.\n",
      "Risk analysis: The first case of a more dangerous type of mpox (Clade 1b) has been recorded outside Africa, in Sweden. \n",
      "\n",
      "Who: A person who recently visited an area in Africa with an outbreak of mpox Clade 1.\n",
      "What: Infected with mpox Clade 1b, a more severe type of the disease.\n",
      "When: Recently, exact date not specified.\n",
      "Where: Sweden, after visiting an area in Africa with an outbreak.\n",
      "Why: Due to the ongoing outbreak in Africa and global travel.\n",
      "How: Through close contact, such as sex, skin-to-skin contact, and talking or breathing close to another person.\n",
      "\n",
      "This news might impact Singapore's society by raising concerns about the potential spread of the disease, given the country's high connectivity and global travel. The government may take extra precautions to monitor and prevent the spread of mpox Clade 1b, and ensure that the public is aware of the risks and symptoms.\n",
      "\n",
      "\n",
      "\n"
     ]
    }
   ],
   "source": [
    "for text in tests:\n",
    "    print(text[:300])\n",
    "    sumans = llama31_70bchain_summary.invoke(text)\n",
    "    print('Summarised content:', sumans.content)\n",
    "    riskans = llama31_70bchain_risk.invoke(text)\n",
    "    print('Risk analysis:', riskans.content)\n",
    "    print('\\n\\n')"
   ]
  },
  {
   "cell_type": "code",
   "execution_count": null,
   "metadata": {},
   "outputs": [],
   "source": []
  }
 ],
 "metadata": {
  "kernelspec": {
   "display_name": "Python 3",
   "language": "python",
   "name": "python3"
  },
  "language_info": {
   "codemirror_mode": {
    "name": "ipython",
    "version": 3
   },
   "file_extension": ".py",
   "mimetype": "text/x-python",
   "name": "python",
   "nbconvert_exporter": "python",
   "pygments_lexer": "ipython3",
   "version": "3.8.8"
  }
 },
 "nbformat": 4,
 "nbformat_minor": 2
}
